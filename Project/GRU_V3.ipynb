{
 "cells": [
  {
   "cell_type": "code",
   "execution_count": 1,
   "id": "6b20d429",
   "metadata": {},
   "outputs": [
    {
     "name": "stderr",
     "output_type": "stream",
     "text": [
      "/Users/yiqinshen/opt/anaconda3/lib/python3.8/site-packages/pandas/core/arraylike.py:364: RuntimeWarning: invalid value encountered in log\n",
      "  result = getattr(ufunc, method)(*inputs, **kwargs)\n",
      "  5%|▌         | 5/100 [23:08<7:39:01, 289.91s/it]"
     ]
    },
    {
     "name": "stdout",
     "output_type": "stream",
     "text": [
      "Epoch 5 : corrcoef is 0.033547.\n"
     ]
    },
    {
     "name": "stderr",
     "output_type": "stream",
     "text": [
      " 10%|█         | 10/100 [45:53<7:14:18, 289.54s/it]"
     ]
    },
    {
     "name": "stdout",
     "output_type": "stream",
     "text": [
      "Epoch 10 : corrcoef is 0.045268.\n"
     ]
    },
    {
     "name": "stderr",
     "output_type": "stream",
     "text": [
      " 15%|█▌        | 15/100 [1:08:03<6:41:15, 283.24s/it]"
     ]
    },
    {
     "name": "stdout",
     "output_type": "stream",
     "text": [
      "Epoch 15 : corrcoef is 0.045497.\n"
     ]
    },
    {
     "name": "stderr",
     "output_type": "stream",
     "text": [
      " 20%|██        | 20/100 [1:30:15<6:15:50, 281.88s/it]"
     ]
    },
    {
     "name": "stdout",
     "output_type": "stream",
     "text": [
      "Epoch 20 : corrcoef is 0.047017.\n"
     ]
    },
    {
     "name": "stderr",
     "output_type": "stream",
     "text": [
      " 25%|██▌       | 25/100 [1:52:21<5:51:08, 280.92s/it]"
     ]
    },
    {
     "name": "stdout",
     "output_type": "stream",
     "text": [
      "Epoch 25 : corrcoef is 0.048586.\n"
     ]
    },
    {
     "name": "stderr",
     "output_type": "stream",
     "text": [
      " 30%|███       | 30/100 [2:14:24<5:26:48, 280.11s/it]"
     ]
    },
    {
     "name": "stdout",
     "output_type": "stream",
     "text": [
      "Epoch 30 : corrcoef is 0.049901.\n"
     ]
    },
    {
     "name": "stderr",
     "output_type": "stream",
     "text": [
      " 35%|███▌      | 35/100 [2:36:34<5:04:45, 281.32s/it]"
     ]
    },
    {
     "name": "stdout",
     "output_type": "stream",
     "text": [
      "Epoch 35 : corrcoef is 0.050974.\n"
     ]
    },
    {
     "name": "stderr",
     "output_type": "stream",
     "text": [
      " 40%|████      | 40/100 [2:57:38<4:29:43, 269.73s/it]"
     ]
    },
    {
     "name": "stdout",
     "output_type": "stream",
     "text": [
      "Epoch 40 : corrcoef is 0.051796.\n"
     ]
    },
    {
     "name": "stderr",
     "output_type": "stream",
     "text": [
      " 45%|████▌     | 45/100 [3:18:39<4:05:28, 267.79s/it]"
     ]
    },
    {
     "name": "stdout",
     "output_type": "stream",
     "text": [
      "Epoch 45 : corrcoef is 0.052427.\n"
     ]
    },
    {
     "name": "stderr",
     "output_type": "stream",
     "text": [
      " 50%|█████     | 50/100 [3:39:43<3:43:05, 267.71s/it]"
     ]
    },
    {
     "name": "stdout",
     "output_type": "stream",
     "text": [
      "Epoch 50 : corrcoef is 0.052917.\n"
     ]
    },
    {
     "name": "stderr",
     "output_type": "stream",
     "text": [
      " 55%|█████▌    | 55/100 [4:00:49<3:21:05, 268.12s/it]"
     ]
    },
    {
     "name": "stdout",
     "output_type": "stream",
     "text": [
      "Epoch 55 : corrcoef is 0.053294.\n"
     ]
    },
    {
     "name": "stderr",
     "output_type": "stream",
     "text": [
      " 60%|██████    | 60/100 [4:21:54<2:58:32, 267.82s/it]"
     ]
    },
    {
     "name": "stdout",
     "output_type": "stream",
     "text": [
      "Epoch 60 : corrcoef is 0.053596.\n"
     ]
    },
    {
     "name": "stderr",
     "output_type": "stream",
     "text": [
      " 65%|██████▌   | 65/100 [4:42:57<2:35:56, 267.33s/it]"
     ]
    },
    {
     "name": "stdout",
     "output_type": "stream",
     "text": [
      "Epoch 65 : corrcoef is 0.053822.\n"
     ]
    },
    {
     "name": "stderr",
     "output_type": "stream",
     "text": [
      " 70%|███████   | 70/100 [5:04:06<2:14:11, 268.40s/it]"
     ]
    },
    {
     "name": "stdout",
     "output_type": "stream",
     "text": [
      "Epoch 70 : corrcoef is 0.054003.\n"
     ]
    },
    {
     "name": "stderr",
     "output_type": "stream",
     "text": [
      " 75%|███████▌  | 75/100 [5:25:12<1:51:41, 268.05s/it]"
     ]
    },
    {
     "name": "stdout",
     "output_type": "stream",
     "text": [
      "Epoch 75 : corrcoef is 0.054130.\n"
     ]
    },
    {
     "name": "stderr",
     "output_type": "stream",
     "text": [
      " 80%|████████  | 80/100 [5:46:17<1:29:12, 267.64s/it]"
     ]
    },
    {
     "name": "stdout",
     "output_type": "stream",
     "text": [
      "Epoch 80 : corrcoef is 0.054225.\n"
     ]
    },
    {
     "name": "stderr",
     "output_type": "stream",
     "text": [
      " 85%|████████▌ | 85/100 [6:07:24<1:07:03, 268.21s/it]"
     ]
    },
    {
     "name": "stdout",
     "output_type": "stream",
     "text": [
      "Epoch 85 : corrcoef is 0.054308.\n"
     ]
    },
    {
     "name": "stderr",
     "output_type": "stream",
     "text": [
      " 90%|█████████ | 90/100 [6:28:28<44:35, 267.54s/it]  "
     ]
    },
    {
     "name": "stdout",
     "output_type": "stream",
     "text": [
      "Epoch 90 : corrcoef is 0.054376.\n"
     ]
    },
    {
     "name": "stderr",
     "output_type": "stream",
     "text": [
      " 95%|█████████▌| 95/100 [6:49:34<22:18, 267.77s/it]"
     ]
    },
    {
     "name": "stdout",
     "output_type": "stream",
     "text": [
      "Epoch 95 : corrcoef is 0.054439.\n"
     ]
    },
    {
     "name": "stderr",
     "output_type": "stream",
     "text": [
      "100%|██████████| 100/100 [7:09:40<00:00, 257.81s/it]"
     ]
    },
    {
     "name": "stdout",
     "output_type": "stream",
     "text": [
      "Epoch 100 : corrcoef is 0.054500.\n"
     ]
    },
    {
     "name": "stderr",
     "output_type": "stream",
     "text": [
      "\n"
     ]
    },
    {
     "data": {
      "image/png": "[encoded data removed]",
      "text/plain": [
       "<Figure size 432x288 with 1 Axes>"
      ]
     },
     "metadata": {
      "needs_background": "light"
     },
     "output_type": "display_data"
    },
    {
     "data": {
      "image/png": "[encoded data removed]",
      "text/plain": [
       "<Figure size 432x288 with 1 Axes>"
      ]
     },
     "metadata": {
      "needs_background": "light"
     },
     "output_type": "display_data"
    }
   ],
   "source": [
    "import os\n",
    "import time\n",
    "import numpy as np\n",
    "import pandas as pd\n",
    "from datetime import datetime\n",
    "import torch\n",
    "import torch.nn as nn\n",
    "import torch.optim as optim\n",
    "from torch.autograd import Variable\n",
    "from torch.utils import data\n",
    "from torch.utils.data import Dataset, DataLoader\n",
    "from tqdm import tqdm\n",
    "import matplotlib.pyplot as plt\n",
    "import matplotlib.ticker as ticker\n",
    "from sklearn.preprocessing import StandardScaler\n",
    "\n",
    "df = pd.read_csv('./g-research-crypto-forecasting/train.csv')\n",
    "df.dropna(axis = 0, inplace = True)\n",
    "\n",
    "# auxiliary function, from datetime to timestamp\n",
    "totimestamp = lambda s: np.int32(time.mktime(datetime.strptime(s, \"%d/%m/%Y\").timetuple()))\n",
    "\n",
    "train_window = [totimestamp(\"01/05/2021\"), totimestamp(\"30/05/2021\")]\n",
    "test_window = [totimestamp(\"01/06/2021\"), totimestamp(\"30/06/2021\")]\n",
    "BATCH_SIZE = 5\n",
    "SEQ_LENGTH = 20\n",
    "\n",
    "def log_return(series, periods=1):\n",
    "    return np.log(series).diff(periods=periods)\n",
    "\n",
    "def create_xy_pairs(X_series, y_series, seq_length):\n",
    "    data_length = len(X_series)\n",
    "    pairs = []\n",
    "    for idx in range(data_length - seq_length):\n",
    "        x = X_series[idx:idx + seq_length]\n",
    "        y = y_series[idx + seq_length:idx + seq_length + 1]\n",
    "        pairs.append((x, y))\n",
    "    return pairs\n",
    "\n",
    "data = df.set_index(\"timestamp\")\n",
    "upper_shadow = lambda asset: asset.High - np.maximum(asset.Close,asset.Open)\n",
    "lower_shadow = lambda asset: np.minimum(asset.Close,asset.Open)- asset.Low\n",
    "\n",
    "X = pd.concat([log_return(data[data[\"Asset_ID\"]==0].VWAP,periods=5), \\\n",
    "               log_return(data[data[\"Asset_ID\"]==0].VWAP,periods=1).abs(), \\\n",
    "               upper_shadow(data[data[\"Asset_ID\"]==0]), lower_shadow(data[data[\"Asset_ID\"]==0]), \\\n",
    "               log_return(data[data[\"Asset_ID\"]==1].VWAP,periods=5), \\\n",
    "               log_return(data[data[\"Asset_ID\"]==1].VWAP,periods=1).abs(), \\\n",
    "               upper_shadow(data[data[\"Asset_ID\"]==1]), lower_shadow(data[data[\"Asset_ID\"]==1]), \\\n",
    "               log_return(data[data[\"Asset_ID\"]==2].VWAP,periods=5), \\\n",
    "               log_return(data[data[\"Asset_ID\"]==2].VWAP,periods=1).abs(), \\\n",
    "               upper_shadow(data[data[\"Asset_ID\"]==2]), lower_shadow(data[data[\"Asset_ID\"]==2]), \\\n",
    "               log_return(data[data[\"Asset_ID\"]==3].VWAP,periods=5), \\\n",
    "               log_return(data[data[\"Asset_ID\"]==3].VWAP,periods=1).abs(), \\\n",
    "               upper_shadow(data[data[\"Asset_ID\"]==3]), lower_shadow(data[data[\"Asset_ID\"]==3]), \\\n",
    "               log_return(data[data[\"Asset_ID\"]==4].VWAP,periods=5), \\\n",
    "               log_return(data[data[\"Asset_ID\"]==4].VWAP,periods=1).abs(), \\\n",
    "               upper_shadow(data[data[\"Asset_ID\"]==4]), lower_shadow(data[data[\"Asset_ID\"]==4]), \\\n",
    "               log_return(data[data[\"Asset_ID\"]==5].VWAP,periods=5), \\\n",
    "               log_return(data[data[\"Asset_ID\"]==5].VWAP,periods=1).abs(), \\\n",
    "               upper_shadow(data[data[\"Asset_ID\"]==5]), lower_shadow(data[data[\"Asset_ID\"]==5]), \\\n",
    "               log_return(data[data[\"Asset_ID\"]==6].VWAP,periods=5), \\\n",
    "               log_return(data[data[\"Asset_ID\"]==6].VWAP,periods=1).abs(), \\\n",
    "               upper_shadow(data[data[\"Asset_ID\"]==6]), lower_shadow(data[data[\"Asset_ID\"]==6]), \\\n",
    "               log_return(data[data[\"Asset_ID\"]==7].VWAP,periods=5), \\\n",
    "               log_return(data[data[\"Asset_ID\"]==7].VWAP,periods=1).abs(), \\\n",
    "               upper_shadow(data[data[\"Asset_ID\"]==7]), lower_shadow(data[data[\"Asset_ID\"]==7]), \\\n",
    "               log_return(data[data[\"Asset_ID\"]==8].VWAP,periods=5), \\\n",
    "               log_return(data[data[\"Asset_ID\"]==8].VWAP,periods=1).abs(), \\\n",
    "               upper_shadow(data[data[\"Asset_ID\"]==8]), lower_shadow(data[data[\"Asset_ID\"]==8]), \\\n",
    "               log_return(data[data[\"Asset_ID\"]==9].VWAP,periods=5), \\\n",
    "               log_return(data[data[\"Asset_ID\"]==9].VWAP,periods=1).abs(), \\\n",
    "               upper_shadow(data[data[\"Asset_ID\"]==9]), lower_shadow(data[data[\"Asset_ID\"]==9]), \\\n",
    "               log_return(data[data[\"Asset_ID\"]==10].VWAP,periods=5), \\\n",
    "               log_return(data[data[\"Asset_ID\"]==10].VWAP,periods=1).abs(), \\\n",
    "               upper_shadow(data[data[\"Asset_ID\"]==10]), lower_shadow(data[data[\"Asset_ID\"]==10]), \\\n",
    "               log_return(data[data[\"Asset_ID\"]==11].VWAP,periods=5), \\\n",
    "               log_return(data[data[\"Asset_ID\"]==11].VWAP,periods=1).abs(), \\\n",
    "               upper_shadow(data[data[\"Asset_ID\"]==11]), lower_shadow(data[data[\"Asset_ID\"]==11]), \\\n",
    "               log_return(data[data[\"Asset_ID\"]==12].VWAP,periods=5), \\\n",
    "               log_return(data[data[\"Asset_ID\"]==12].VWAP,periods=1).abs(), \\\n",
    "               upper_shadow(data[data[\"Asset_ID\"]==12]), lower_shadow(data[data[\"Asset_ID\"]==12]), \\\n",
    "               log_return(data[data[\"Asset_ID\"]==13].VWAP,periods=5), \\\n",
    "               log_return(data[data[\"Asset_ID\"]==13].VWAP,periods=1).abs(), \\\n",
    "               upper_shadow(data[data[\"Asset_ID\"]==13]), lower_shadow(data[data[\"Asset_ID\"]==13]), \\\n",
    "              ], axis=1)\n",
    "\n",
    "\n",
    "y = data[data[\"Asset_ID\"]==0].Target\n",
    "\n",
    "X = X.loc[y.index].fillna(0)\n",
    "    \n",
    "X_train = X.loc[train_window[0]:train_window[1]].fillna(0).to_numpy()  # filling NaN's with zeros\n",
    "y_train = y.loc[train_window[0]:train_window[1]].fillna(0).to_numpy()  \n",
    "\n",
    "X_test = X.loc[test_window[0]:test_window[1]].fillna(0).to_numpy() \n",
    "y_test = y.loc[test_window[0]:test_window[1]].fillna(0).to_numpy() \n",
    "\n",
    "scaler = StandardScaler()\n",
    "\n",
    "X_train_scaled = scaler.fit_transform(X_train)\n",
    "X_test_scaled = scaler.transform(X_test)\n",
    "    \n",
    "    \n",
    "train = create_xy_pairs(X_train_scaled, y_train, SEQ_LENGTH)\n",
    "test = create_xy_pairs(X_test_scaled, y_test, SEQ_LENGTH)\n",
    "\n",
    "train_dl = DataLoader(train, batch_size = BATCH_SIZE, shuffle = False, drop_last = True)\n",
    "test_dl = DataLoader(test, batch_size = BATCH_SIZE, shuffle = False, drop_last = True)\n",
    "\n",
    "\n",
    "use_cuda = torch.cuda.is_available()\n",
    "device = torch.device(\"cuda:0\" if use_cuda else \"cpu\")\n",
    "\n",
    "EPOCHS        = 100\n",
    "DROPOUT       = 0.1\n",
    "NUM_LAYERS    = 10\n",
    "INPUT_DIM     = 56\n",
    "OUTPUT_SIZE   = 1\n",
    "HIDDEN_SIZE   = 56\n",
    "LEARNING_RATE = 0.0001\n",
    "STATE_DIM     = NUM_LAYERS, BATCH_SIZE, HIDDEN_SIZE\n",
    "\n",
    "class GRU(nn.Module):\n",
    "    def __init__(self, input_size, hidden_size, num_layers, output_size, dropout_prob):\n",
    "        super(GRU, self).__init__()\n",
    "\n",
    "        self.num_layers = num_layers\n",
    "        self.hidden_size = hidden_size\n",
    "\n",
    "        self.gru = nn.GRU(input_size, hidden_size, num_layers, batch_first=True, dropout=dropout_prob)\n",
    "        self.dropout = nn.Dropout(dropout_prob)\n",
    "        self.linear = nn.Linear(hidden_size, output_size)\n",
    "\n",
    "    def init_hidden(self, batch_size):\n",
    "        state_dim = (self.num_layers, batch_size, self.hidden_size)\n",
    "        return (torch.zeros(state_dim).to(device))\n",
    "\n",
    "    def forward(self, x, states):\n",
    "        x, (h) = self.gru(x, states)\n",
    "        out = self.linear(x)\n",
    "        return out, (h)\n",
    "\n",
    "model = GRU(\n",
    "    INPUT_DIM,\n",
    "    HIDDEN_SIZE,\n",
    "    NUM_LAYERS,\n",
    "    OUTPUT_SIZE,\n",
    "    DROPOUT\n",
    ").to(device)\n",
    "\n",
    "criterion = nn.MSELoss()\n",
    "optimizer = optim.AdamW(model.linear.parameters(), lr=LEARNING_RATE, weight_decay=0.01)\n",
    "\n",
    "\n",
    "def training(model, epochs, validate_every=2):\n",
    "\n",
    "    training_losses = []\n",
    "    coefficient = []\n",
    "    \n",
    "    # Set to train mode\n",
    "    model.train()\n",
    "    \n",
    "    # Initialize hidden and cell states with dimension:\n",
    "    # (num_layers * num_directions, batch, hidden_size)\n",
    "    states = model.init_hidden(BATCH_SIZE)\n",
    "\n",
    "    for epoch in tqdm(range(epochs)):\n",
    "\n",
    "        running_training_loss = 0.0\n",
    "\n",
    "        # Begin training\n",
    "        for idx, (x_batch, y_batch) in enumerate(train_dl):\n",
    "            # Convert to Tensors\n",
    "            x_batch = x_batch.float().to(device)\n",
    "            y_batch = y_batch.float().to(device)\n",
    "      \n",
    "            # Truncated Backpropagation\n",
    "            states = states.detach()       \n",
    "\n",
    "            optimizer.zero_grad()\n",
    "\n",
    "            # Make prediction\n",
    "            output, states = model(x_batch, states)\n",
    "\n",
    "            # Calculate loss\n",
    "            loss = criterion(output[:, -1, :], y_batch)\n",
    "            loss.backward()\n",
    "            running_training_loss += loss.item()\n",
    "\n",
    "            torch.nn.utils.clip_grad_norm_(model.parameters(), 0.5)\n",
    "            optimizer.step()\n",
    "        \n",
    "        # Average loss across timesteps\n",
    "        training_losses.append(running_training_loss / len(train_dl))\n",
    "        \n",
    "        #predict\n",
    "        if (epoch+1) % 5 == 0:\n",
    "            # Set to eval mode\n",
    "            model.eval()\n",
    "            #torch.no_grad()\n",
    "            \n",
    "            pred = []\n",
    "            for idx, (x_batch, y_batch) in enumerate(test_dl):\n",
    "                # Convert to Tensors\n",
    "                x_batch = x_batch.float().to(device)\n",
    "                y_batch = y_batch.float().to(device)\n",
    "                \n",
    "                validation_states = states.detach()\n",
    "                output, _ = model(x_batch, validation_states)\n",
    "                output = output[:, -1, :].flatten().tolist()\n",
    "                pred += output\n",
    "            pred_btc = np.array(pred)\n",
    "            test_btc = y_test[20:len(pred_btc)+20]\n",
    "            coef = np.corrcoef(pred_btc, test_btc)[0,1]\n",
    "            coefficient.append(coef)\n",
    "            print('Epoch %i : corrcoef is %f.' %(epoch+1,coef))\n",
    "        \n",
    "        \n",
    "    # Visualize loss\n",
    "    epoch_count = range(1, len(training_losses) + 1)\n",
    "    plt.plot(epoch_count, training_losses, 'r--')\n",
    "    plt.legend(['Training Loss'])\n",
    "    plt.xlabel('Epoch')\n",
    "    plt.ylabel('Loss')\n",
    "    plt.show()\n",
    "\n",
    "    coef_epoch_count = range(5, (len(coefficient)+1)*5, 5)\n",
    "    plt.plot(coef_epoch_count, coefficient, 'b--')\n",
    "    plt.xticks(coef_epoch_count)\n",
    "    plt.legend(['Correlation Coefficient'])\n",
    "    plt.xlabel('Epoch')\n",
    "    plt.ylabel('Coefficient')\n",
    "    plt.show()\n",
    "    \n",
    "training(model, 100)"
   ]
  },
  {
   "cell_type": "code",
   "execution_count": null,
   "id": "638d614a",
   "metadata": {},
   "outputs": [],
   "source": []
  }
 ],
 "metadata": {
  "kernelspec": {
   "display_name": "Python 3",
   "language": "python",
   "name": "python3"
  },
  "language_info": {
   "codemirror_mode": {
    "name": "ipython",
    "version": 3
   },
   "file_extension": ".py",
   "mimetype": "text/x-python",
   "name": "python",
   "nbconvert_exporter": "python",
   "pygments_lexer": "ipython3",
   "version": "3.8.8"
  }
 },
 "nbformat": 4,
 "nbformat_minor": 5
}
