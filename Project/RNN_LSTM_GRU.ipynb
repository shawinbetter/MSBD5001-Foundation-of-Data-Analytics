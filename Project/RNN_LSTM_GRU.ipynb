{
 "cells": [
  {
   "cell_type": "code",
   "execution_count": 1,
   "id": "d90d72e1",
   "metadata": {},
   "outputs": [],
   "source": [
    "import os\n",
    "import time\n",
    "import numpy as np\n",
    "import pandas as pd\n",
    "from datetime import datetime\n",
    "from sklearn.model_selection import train_test_split"
   ]
  },
  {
   "cell_type": "code",
   "execution_count": 2,
   "id": "3d4d4f6a",
   "metadata": {},
   "outputs": [],
   "source": [
    "import torch\n",
    "import torch.nn as nn\n",
    "import torch.optim as optim\n",
    "from torch.autograd import Variable\n",
    "from torch.utils import data\n",
    "from torch.utils.data import Dataset, DataLoader\n",
    "from tqdm import tqdm\n",
    "import matplotlib.pyplot as plt\n",
    "import matplotlib.ticker as ticker"
   ]
  },
  {
   "cell_type": "code",
   "execution_count": 3,
   "id": "6148815a",
   "metadata": {
    "scrolled": true
   },
   "outputs": [
    {
     "data": {
      "text/html": [
       "<div>\n",
       "<style scoped>\n",
       "    .dataframe tbody tr th:only-of-type {\n",
       "        vertical-align: middle;\n",
       "    }\n",
       "\n",
       "    .dataframe tbody tr th {\n",
       "        vertical-align: top;\n",
       "    }\n",
       "\n",
       "    .dataframe thead th {\n",
       "        text-align: right;\n",
       "    }\n",
       "</style>\n",
       "<table border=\"1\" class=\"dataframe\">\n",
       "  <thead>\n",
       "    <tr style=\"text-align: right;\">\n",
       "      <th></th>\n",
       "      <th>timestamp</th>\n",
       "      <th>Asset_ID</th>\n",
       "      <th>Count</th>\n",
       "      <th>Open</th>\n",
       "      <th>High</th>\n",
       "      <th>Low</th>\n",
       "      <th>Close</th>\n",
       "      <th>Volume</th>\n",
       "      <th>VWAP</th>\n",
       "      <th>Target</th>\n",
       "    </tr>\n",
       "  </thead>\n",
       "  <tbody>\n",
       "    <tr>\n",
       "      <th>0</th>\n",
       "      <td>1514764860</td>\n",
       "      <td>2</td>\n",
       "      <td>40.0</td>\n",
       "      <td>2376.5800</td>\n",
       "      <td>2399.5000</td>\n",
       "      <td>2357.1400</td>\n",
       "      <td>2374.5900</td>\n",
       "      <td>19.233005</td>\n",
       "      <td>2373.116392</td>\n",
       "      <td>-0.004218</td>\n",
       "    </tr>\n",
       "    <tr>\n",
       "      <th>1</th>\n",
       "      <td>1514764860</td>\n",
       "      <td>0</td>\n",
       "      <td>5.0</td>\n",
       "      <td>8.5300</td>\n",
       "      <td>8.5300</td>\n",
       "      <td>8.5300</td>\n",
       "      <td>8.5300</td>\n",
       "      <td>78.380000</td>\n",
       "      <td>8.530000</td>\n",
       "      <td>-0.014399</td>\n",
       "    </tr>\n",
       "    <tr>\n",
       "      <th>2</th>\n",
       "      <td>1514764860</td>\n",
       "      <td>1</td>\n",
       "      <td>229.0</td>\n",
       "      <td>13835.1940</td>\n",
       "      <td>14013.8000</td>\n",
       "      <td>13666.1100</td>\n",
       "      <td>13850.1760</td>\n",
       "      <td>31.550062</td>\n",
       "      <td>13827.062093</td>\n",
       "      <td>-0.014643</td>\n",
       "    </tr>\n",
       "    <tr>\n",
       "      <th>3</th>\n",
       "      <td>1514764860</td>\n",
       "      <td>5</td>\n",
       "      <td>32.0</td>\n",
       "      <td>7.6596</td>\n",
       "      <td>7.6596</td>\n",
       "      <td>7.6567</td>\n",
       "      <td>7.6576</td>\n",
       "      <td>6626.713370</td>\n",
       "      <td>7.657713</td>\n",
       "      <td>-0.013922</td>\n",
       "    </tr>\n",
       "    <tr>\n",
       "      <th>4</th>\n",
       "      <td>1514764860</td>\n",
       "      <td>7</td>\n",
       "      <td>5.0</td>\n",
       "      <td>25.9200</td>\n",
       "      <td>25.9200</td>\n",
       "      <td>25.8740</td>\n",
       "      <td>25.8770</td>\n",
       "      <td>121.087310</td>\n",
       "      <td>25.891363</td>\n",
       "      <td>-0.008264</td>\n",
       "    </tr>\n",
       "  </tbody>\n",
       "</table>\n",
       "</div>"
      ],
      "text/plain": [
       "    timestamp  Asset_ID  Count        Open        High         Low  \\\n",
       "0  1514764860         2   40.0   2376.5800   2399.5000   2357.1400   \n",
       "1  1514764860         0    5.0      8.5300      8.5300      8.5300   \n",
       "2  1514764860         1  229.0  13835.1940  14013.8000  13666.1100   \n",
       "3  1514764860         5   32.0      7.6596      7.6596      7.6567   \n",
       "4  1514764860         7    5.0     25.9200     25.9200     25.8740   \n",
       "\n",
       "        Close       Volume          VWAP    Target  \n",
       "0   2374.5900    19.233005   2373.116392 -0.004218  \n",
       "1      8.5300    78.380000      8.530000 -0.014399  \n",
       "2  13850.1760    31.550062  13827.062093 -0.014643  \n",
       "3      7.6576  6626.713370      7.657713 -0.013922  \n",
       "4     25.8770   121.087310     25.891363 -0.008264  "
      ]
     },
     "execution_count": 3,
     "metadata": {},
     "output_type": "execute_result"
    }
   ],
   "source": [
    "# Start with 10k rows for testing\n",
    "df = pd.read_csv('./g-research-crypto-forecasting/train.csv')\n",
    "df.dropna(axis = 0, inplace = True)\n",
    "df.head()"
   ]
  },
  {
   "cell_type": "code",
   "execution_count": 4,
   "id": "d98e9e5c",
   "metadata": {},
   "outputs": [],
   "source": [
    "# auxiliary function, from datetime to timestamp\n",
    "totimestamp = lambda s: np.int32(time.mktime(datetime.strptime(s, \"%d/%m/%Y\").timetuple()))\n"
   ]
  },
  {
   "cell_type": "code",
   "execution_count": 5,
   "id": "9be7e76c",
   "metadata": {},
   "outputs": [],
   "source": [
    "btc = df[df[\"Asset_ID\"]==1].set_index(\"timestamp\")\n",
    "eth = df[df[\"Asset_ID\"]==6].set_index(\"timestamp\")"
   ]
  },
  {
   "cell_type": "code",
   "execution_count": 6,
   "id": "8caf2653",
   "metadata": {},
   "outputs": [],
   "source": [
    "def log_return(series, periods=1):\n",
    "    return np.log(series).diff(periods=periods)"
   ]
  },
  {
   "cell_type": "code",
   "execution_count": 7,
   "id": "c9698436",
   "metadata": {},
   "outputs": [],
   "source": [
    "upper_shadow = lambda asset: asset.High - np.maximum(asset.Close,asset.Open)\n",
    "lower_shadow = lambda asset: np.minimum(asset.Close,asset.Open)- asset.Low\n",
    "\n",
    "X_btc = pd.concat([log_return(btc.VWAP,periods=5), log_return(btc.VWAP,periods=1).abs(), \n",
    "               upper_shadow(btc), lower_shadow(btc)], axis=1)\n",
    "y_btc = btc.Target\n",
    "\n",
    "X_eth = pd.concat([log_return(eth.VWAP,periods=5), log_return(eth.VWAP,periods=1).abs(), \n",
    "               upper_shadow(eth), lower_shadow(eth)], axis=1)\n",
    "y_eth = eth.Target"
   ]
  },
  {
   "cell_type": "code",
   "execution_count": 8,
   "id": "128f4b0a",
   "metadata": {},
   "outputs": [
    {
     "data": {
      "text/html": [
       "<div>\n",
       "<style scoped>\n",
       "    .dataframe tbody tr th:only-of-type {\n",
       "        vertical-align: middle;\n",
       "    }\n",
       "\n",
       "    .dataframe tbody tr th {\n",
       "        vertical-align: top;\n",
       "    }\n",
       "\n",
       "    .dataframe thead th {\n",
       "        text-align: right;\n",
       "    }\n",
       "</style>\n",
       "<table border=\"1\" class=\"dataframe\">\n",
       "  <thead>\n",
       "    <tr style=\"text-align: right;\">\n",
       "      <th></th>\n",
       "      <th>VWAP</th>\n",
       "      <th>VWAP</th>\n",
       "      <th>0</th>\n",
       "      <th>1</th>\n",
       "    </tr>\n",
       "    <tr>\n",
       "      <th>timestamp</th>\n",
       "      <th></th>\n",
       "      <th></th>\n",
       "      <th></th>\n",
       "      <th></th>\n",
       "    </tr>\n",
       "  </thead>\n",
       "  <tbody>\n",
       "    <tr>\n",
       "      <th>1514764860</th>\n",
       "      <td>NaN</td>\n",
       "      <td>NaN</td>\n",
       "      <td>163.624</td>\n",
       "      <td>169.084</td>\n",
       "    </tr>\n",
       "    <tr>\n",
       "      <th>1514764920</th>\n",
       "      <td>NaN</td>\n",
       "      <td>0.000961</td>\n",
       "      <td>217.264</td>\n",
       "      <td>148.102</td>\n",
       "    </tr>\n",
       "    <tr>\n",
       "      <th>1514764980</th>\n",
       "      <td>NaN</td>\n",
       "      <td>0.002481</td>\n",
       "      <td>176.500</td>\n",
       "      <td>200.314</td>\n",
       "    </tr>\n",
       "    <tr>\n",
       "      <th>1514765040</th>\n",
       "      <td>NaN</td>\n",
       "      <td>0.001629</td>\n",
       "      <td>196.488</td>\n",
       "      <td>191.760</td>\n",
       "    </tr>\n",
       "    <tr>\n",
       "      <th>1514765100</th>\n",
       "      <td>NaN</td>\n",
       "      <td>0.003489</td>\n",
       "      <td>189.900</td>\n",
       "      <td>170.474</td>\n",
       "    </tr>\n",
       "    <tr>\n",
       "      <th>1514765160</th>\n",
       "      <td>-0.008725</td>\n",
       "      <td>0.002087</td>\n",
       "      <td>282.986</td>\n",
       "      <td>197.112</td>\n",
       "    </tr>\n",
       "    <tr>\n",
       "      <th>1514765220</th>\n",
       "      <td>-0.011373</td>\n",
       "      <td>0.001687</td>\n",
       "      <td>280.478</td>\n",
       "      <td>169.930</td>\n",
       "    </tr>\n",
       "    <tr>\n",
       "      <th>1514765280</th>\n",
       "      <td>-0.007596</td>\n",
       "      <td>0.001297</td>\n",
       "      <td>193.252</td>\n",
       "      <td>164.256</td>\n",
       "    </tr>\n",
       "    <tr>\n",
       "      <th>1514765340</th>\n",
       "      <td>-0.004586</td>\n",
       "      <td>0.001380</td>\n",
       "      <td>228.640</td>\n",
       "      <td>173.422</td>\n",
       "    </tr>\n",
       "    <tr>\n",
       "      <th>1514765400</th>\n",
       "      <td>-0.001726</td>\n",
       "      <td>0.000628</td>\n",
       "      <td>228.598</td>\n",
       "      <td>183.610</td>\n",
       "    </tr>\n",
       "  </tbody>\n",
       "</table>\n",
       "</div>"
      ],
      "text/plain": [
       "                VWAP      VWAP        0        1\n",
       "timestamp                                       \n",
       "1514764860       NaN       NaN  163.624  169.084\n",
       "1514764920       NaN  0.000961  217.264  148.102\n",
       "1514764980       NaN  0.002481  176.500  200.314\n",
       "1514765040       NaN  0.001629  196.488  191.760\n",
       "1514765100       NaN  0.003489  189.900  170.474\n",
       "1514765160 -0.008725  0.002087  282.986  197.112\n",
       "1514765220 -0.011373  0.001687  280.478  169.930\n",
       "1514765280 -0.007596  0.001297  193.252  164.256\n",
       "1514765340 -0.004586  0.001380  228.640  173.422\n",
       "1514765400 -0.001726  0.000628  228.598  183.610"
      ]
     },
     "execution_count": 8,
     "metadata": {},
     "output_type": "execute_result"
    }
   ],
   "source": [
    "X_btc.head(10)"
   ]
  },
  {
   "cell_type": "code",
   "execution_count": 9,
   "id": "b9e1bc2d",
   "metadata": {},
   "outputs": [],
   "source": [
    "# select training and test periods\n",
    "train_window = [totimestamp(\"01/05/2021\"), totimestamp(\"30/05/2021\")]\n",
    "test_window = [totimestamp(\"01/06/2021\"), totimestamp(\"30/06/2021\")]\n",
    "\n",
    "X_btc_train = X_btc.loc[train_window[0]:train_window[1]].fillna(0).to_numpy()  # filling NaN's with zeros\n",
    "y_btc_train = y_btc.loc[train_window[0]:train_window[1]].fillna(0).to_numpy()  \n",
    "\n",
    "X_btc_test = X_btc.loc[test_window[0]:test_window[1]].fillna(0).to_numpy() \n",
    "y_btc_test = y_btc.loc[test_window[0]:test_window[1]].fillna(0).to_numpy() \n",
    "\n",
    "X_eth_train = X_eth.loc[train_window[0]:train_window[1]].fillna(0).to_numpy()  \n",
    "y_eth_train = y_eth.loc[train_window[0]:train_window[1]].fillna(0).to_numpy()  \n",
    "\n",
    "X_eth_test = X_eth.loc[test_window[0]:test_window[1]].fillna(0).to_numpy() \n",
    "y_eth_test = y_eth.loc[test_window[0]:test_window[1]].fillna(0).to_numpy() "
   ]
  },
  {
   "cell_type": "code",
   "execution_count": 10,
   "id": "3dc423d7",
   "metadata": {},
   "outputs": [
    {
     "data": {
      "text/plain": [
       "41760"
      ]
     },
     "execution_count": 10,
     "metadata": {},
     "output_type": "execute_result"
    }
   ],
   "source": [
    "len(X_btc_train)"
   ]
  },
  {
   "cell_type": "code",
   "execution_count": 11,
   "id": "358e030f",
   "metadata": {},
   "outputs": [],
   "source": [
    "def create_xy_pairs(X_series, y_series, seq_length):\n",
    "    data_length = len(X_btc_train)\n",
    "    pairs = []\n",
    "    for idx in range(data_length - seq_length):\n",
    "        x = X_series[idx:idx + seq_length]\n",
    "        y = y_series[idx + seq_length:idx + seq_length + 1]\n",
    "        pairs.append((x, y))\n",
    "    return pairs"
   ]
  },
  {
   "cell_type": "code",
   "execution_count": 12,
   "id": "b53f4e45",
   "metadata": {},
   "outputs": [],
   "source": [
    "SEQ_LENGTH    = 20\n",
    "btc_train = create_xy_pairs(X_btc_train, y_btc_train, SEQ_LENGTH)\n",
    "btc_test = create_xy_pairs(X_btc_test, y_btc_test, SEQ_LENGTH)"
   ]
  },
  {
   "cell_type": "code",
   "execution_count": 13,
   "id": "2b43bbc9",
   "metadata": {},
   "outputs": [],
   "source": [
    "BATCH_SIZE = 5\n",
    "btc_train_dl = DataLoader(btc_train, batch_size = BATCH_SIZE, shuffle = False)\n",
    "btc_test_dl = DataLoader(btc_test, batch_size = 1, shuffle = False)"
   ]
  },
  {
   "cell_type": "markdown",
   "id": "e6cb8de6",
   "metadata": {},
   "source": [
    "# RNN"
   ]
  },
  {
   "cell_type": "code",
   "execution_count": 14,
   "id": "991b7a8c",
   "metadata": {},
   "outputs": [],
   "source": [
    "use_cuda = torch.cuda.is_available()\n",
    "device = torch.device(\"cuda:0\" if use_cuda else \"cpu\")"
   ]
  },
  {
   "cell_type": "code",
   "execution_count": 20,
   "id": "2fa1adf8",
   "metadata": {},
   "outputs": [],
   "source": [
    "EPOCHS        = 100\n",
    "DROPOUT       = 0.2\n",
    "NUM_LAYERS    = 2\n",
    "INPUT_DIM     = 4\n",
    "OUTPUT_SIZE   = 1\n",
    "HIDDEN_SIZE   = 100\n",
    "LEARNING_RATE = 0.00001\n",
    "STATE_DIM     = NUM_LAYERS, BATCH_SIZE, HIDDEN_SIZE"
   ]
  },
  {
   "cell_type": "markdown",
   "id": "2aa925a2",
   "metadata": {},
   "source": [
    "for idx, (x_batch, y_batch) in enumerate(btc_train_dl):\n",
    "    print(x_batch)\n",
    "    break"
   ]
  },
  {
   "cell_type": "code",
   "execution_count": 21,
   "id": "593d0b3d",
   "metadata": {},
   "outputs": [],
   "source": [
    "class RNN(nn.Module):\n",
    "    def __init__(self, input_size, hidden_size, num_layers, output_size, dropout_prob):\n",
    "        super(RNN, self).__init__()\n",
    "        \n",
    "        self.num_layers = num_layers\n",
    "        self.hidden_size = hidden_size\n",
    "        \n",
    "        self.rnn = nn.RNN(input_size, hidden_size, num_layers, batch_first=True, dropout=dropout_prob)\n",
    "        self.linear = nn.Linear(hidden_size, output_size)\n",
    "        \n",
    "\n",
    "    def forward(self, x):\n",
    "        \n",
    "        # Initialize hidden state with zeros\n",
    "        h0 = Variable(torch.zeros(self.num_layers, x.size(0), self.hidden_size))\n",
    "        \n",
    "        x, (h) = self.rnn(x, h0)\n",
    "        out = self.linear(x)\n",
    "        return out"
   ]
  },
  {
   "cell_type": "code",
   "execution_count": 22,
   "id": "d0c98d77",
   "metadata": {},
   "outputs": [],
   "source": [
    "model = RNN(\n",
    "    INPUT_DIM,\n",
    "    HIDDEN_SIZE,\n",
    "    NUM_LAYERS,\n",
    "    OUTPUT_SIZE,\n",
    "    DROPOUT\n",
    ").to(device)\n",
    "\n",
    "criterion = nn.MSELoss()\n",
    "optimizer = optim.AdamW(model.linear.parameters(), lr=LEARNING_RATE, weight_decay=0.01)"
   ]
  },
  {
   "cell_type": "code",
   "execution_count": 23,
   "id": "6e83b3fc",
   "metadata": {},
   "outputs": [],
   "source": [
    "def training(model, epochs, validate_every=2):\n",
    "\n",
    "    training_losses = []\n",
    "    validation_losses = []\n",
    "    min_validation_loss = np.Inf\n",
    "\n",
    "    # Set to train mode\n",
    "    model.train()\n",
    "\n",
    "    for epoch in tqdm(range(epochs)):\n",
    "\n",
    "        # Initialize hidden and cell states with dimension:\n",
    "        # (num_layers * num_directions, batch, hidden_size)\n",
    "        running_training_loss = 0.0\n",
    "\n",
    "        # Begin training\n",
    "        for idx, (x_batch, y_batch) in enumerate(btc_train_dl):\n",
    "            # Convert to Tensors\n",
    "            x_batch = x_batch.float().to(device)\n",
    "            y_batch = y_batch.float().to(device)\n",
    "      \n",
    "            optimizer.zero_grad()\n",
    "\n",
    "            # Make prediction\n",
    "            output = model(x_batch)\n",
    "\n",
    "            # Calculate loss\n",
    "            loss = criterion(output[:, -1, :], y_batch)\n",
    "            loss.backward()\n",
    "            running_training_loss += loss.item()\n",
    "\n",
    "            torch.nn.utils.clip_grad_norm_(model.parameters(), 0.5)\n",
    "            optimizer.step()\n",
    "        \n",
    "        # Average loss across timesteps\n",
    "        training_losses.append(running_training_loss / len(btc_train_dl))\n",
    "        \n",
    "        if epoch % validate_every == 0:\n",
    "            # Set to eval mode\n",
    "            model.eval()\n",
    "            torch.no_grad()\n",
    "            running_validation_loss = 0.0\n",
    "\n",
    "            for idx, (x_batch, y_batch) in enumerate(btc_test_dl):\n",
    "\n",
    "                # Convert to Tensors\n",
    "                x_batch = x_batch.float().to(device)\n",
    "                y_batch = y_batch.float().to(device)\n",
    "      \n",
    "                output = model(x_batch)\n",
    "                validation_loss = criterion(output[:, -1, :], y_batch)\n",
    "                running_validation_loss += validation_loss.item()\n",
    "        \n",
    "        validation_losses.append(running_validation_loss / len(btc_test_dl))\n",
    "        # Reset to training mode\n",
    "        model.train()\n",
    "        \n",
    "    # Visualize loss\n",
    "    epoch_count = range(1, len(training_losses) + 1)\n",
    "    plt.plot(epoch_count, training_losses, 'r--')\n",
    "    plt.legend(['Training Loss'])\n",
    "    plt.xlabel('Epoch')\n",
    "    plt.ylabel('Loss')\n",
    "    plt.show()\n",
    "\n",
    "    val_epoch_count = range(1, len(validation_losses) + 1)\n",
    "    plt.plot(val_epoch_count, validation_losses, 'b--')\n",
    "    plt.legend(['Validation loss'])\n",
    "    plt.xlabel('Epoch')\n",
    "    plt.ylabel('Loss')\n",
    "    plt.show()"
   ]
  },
  {
   "cell_type": "code",
   "execution_count": 24,
   "id": "de454481",
   "metadata": {},
   "outputs": [
    {
     "name": "stderr",
     "output_type": "stream",
     "text": [
      "100%|██████████| 30/30 [19:57<00:00, 39.90s/it]\n"
     ]
    },
    {
     "data": {
      "image/png": "[encoded data removed]",
      "text/plain": [
       "<Figure size 432x288 with 1 Axes>"
      ]
     },
     "metadata": {
      "needs_background": "light"
     },
     "output_type": "display_data"
    },
    {
     "data": {
      "image/png": "[encoded data removed]",
      "text/plain": [
       "<Figure size 432x288 with 1 Axes>"
      ]
     },
     "metadata": {
      "needs_background": "light"
     },
     "output_type": "display_data"
    }
   ],
   "source": [
    "training(model, 30)"
   ]
  },
  {
   "cell_type": "markdown",
   "id": "54972452",
   "metadata": {},
   "source": [
    "epoch = 30\n",
    "save_model = True\n",
    "if save_model:\n",
    "    state = {\n",
    "        'net': model.state_dict(),\n",
    "        'epoch': epoch,\n",
    "    }\n",
    "    os.makedirs('RNN', exist_ok=True)\n",
    "    torch.save(state, './RNN/btc_norm_rnn_e30.ckpt')"
   ]
  },
  {
   "cell_type": "code",
   "execution_count": 85,
   "id": "9efa3282",
   "metadata": {},
   "outputs": [],
   "source": [
    "model = RNN(\n",
    "    INPUT_DIM,\n",
    "    HIDDEN_SIZE,\n",
    "    NUM_LAYERS,\n",
    "    OUTPUT_SIZE,\n",
    "    DROPOUT\n",
    ").to(device)\n",
    "load_model = True\n",
    "if load_model:\n",
    "    checkpoint = torch.load('./RNN/btc_rnn_e50.ckpt')\n",
    "    model.load_state_dict(checkpoint['net'])\n",
    "    start_epoch = checkpoint['epoch']"
   ]
  },
  {
   "cell_type": "code",
   "execution_count": 25,
   "id": "3dc7445c",
   "metadata": {},
   "outputs": [
    {
     "name": "stderr",
     "output_type": "stream",
     "text": [
      "41740it [00:34, 1226.10it/s]\n"
     ]
    }
   ],
   "source": [
    "pred = []\n",
    "for idx, (x_batch, y_batch) in tqdm(enumerate(btc_test_dl)):\n",
    "    # Convert to Tensors\n",
    "    x_batch = x_batch.float().to(device)\n",
    "    y_batch = y_batch.float().to(device)\n",
    "      \n",
    "    output = model(x_batch)[:, -1, :].item()\n",
    "    pred.append(output)"
   ]
  },
  {
   "cell_type": "code",
   "execution_count": 26,
   "id": "79e3897a",
   "metadata": {},
   "outputs": [],
   "source": [
    "pred_btc = np.array(pred)\n",
    "test_btc = y_btc_test[20:]"
   ]
  },
  {
   "cell_type": "code",
   "execution_count": 28,
   "id": "dad13610",
   "metadata": {},
   "outputs": [
    {
     "data": {
      "text/plain": [
       "0.0008828156215216786"
      ]
     },
     "execution_count": 28,
     "metadata": {},
     "output_type": "execute_result"
    }
   ],
   "source": [
    "np.corrcoef(pred_btc, test_btc)[0,1]"
   ]
  },
  {
   "cell_type": "code",
   "execution_count": 27,
   "id": "946a6c2f",
   "metadata": {},
   "outputs": [
    {
     "data": {
      "text/plain": [
       "[<matplotlib.lines.Line2D at 0x7fbb04c9aaf0>]"
      ]
     },
     "execution_count": 27,
     "metadata": {},
     "output_type": "execute_result"
    },
    {
     "data": {
      "image/png": "[encoded data removed]",
      "text/plain": [
       "<Figure size 432x288 with 1 Axes>"
      ]
     },
     "metadata": {
      "needs_background": "light"
     },
     "output_type": "display_data"
    }
   ],
   "source": [
    "plt.plot(pred_btc[100:200])\n",
    "plt.plot(test_btc[100:200])"
   ]
  },
  {
   "cell_type": "markdown",
   "id": "fd8ed482",
   "metadata": {},
   "source": [
    "# LSTM"
   ]
  },
  {
   "cell_type": "code",
   "execution_count": 23,
   "id": "2b15e844",
   "metadata": {},
   "outputs": [],
   "source": [
    "use_cuda = torch.cuda.is_available()\n",
    "device = torch.device(\"cuda:0\" if use_cuda else \"cpu\")"
   ]
  },
  {
   "cell_type": "code",
   "execution_count": 25,
   "id": "44a658ce",
   "metadata": {},
   "outputs": [],
   "source": [
    "EPOCHS        = 100\n",
    "DROPOUT       = 0.2\n",
    "NUM_LAYERS    = 2\n",
    "INPUT_DIM     = 4\n",
    "OUTPUT_SIZE   = 1\n",
    "HIDDEN_SIZE   = 100\n",
    "LEARNING_RATE = 0.0001\n",
    "STATE_DIM     = NUM_LAYERS, BATCH_SIZE, HIDDEN_SIZE"
   ]
  },
  {
   "cell_type": "code",
   "execution_count": 31,
   "id": "ad37cfba",
   "metadata": {},
   "outputs": [],
   "source": [
    "class LSTM(nn.Module):\n",
    "    def __init__(self, input_size, hidden_size, num_layers, output_size, dropout_prob):\n",
    "        super(LSTM, self).__init__()\n",
    "\n",
    "        self.num_layers = num_layers\n",
    "        self.hidden_size = hidden_size\n",
    "\n",
    "        self.lstm = nn.LSTM(input_size, hidden_size, num_layers, batch_first=True, dropout=dropout_prob)\n",
    "        self.linear = nn.Linear(hidden_size, output_size)\n",
    "\n",
    "    def forward(self, x):\n",
    "        \n",
    "        # Initialize hidden state with zeros\n",
    "        states = (Variable(torch.zeros(self.num_layers, x.size(0), self.hidden_size)),\n",
    "                  Variable(torch.zeros(self.num_layers, x.size(0), self.hidden_size)))\n",
    "        \n",
    "        x, (h, c) = self.lstm(x, states)\n",
    "        out = self.linear(x)\n",
    "        return out"
   ]
  },
  {
   "cell_type": "code",
   "execution_count": 32,
   "id": "2bfacfec",
   "metadata": {},
   "outputs": [],
   "source": [
    "model = LSTM(\n",
    "    INPUT_DIM,\n",
    "    HIDDEN_SIZE,\n",
    "    NUM_LAYERS,\n",
    "    OUTPUT_SIZE,\n",
    "    DROPOUT\n",
    ").to(device)\n",
    "\n",
    "criterion = nn.MSELoss()\n",
    "optimizer = optim.AdamW(model.linear.parameters(), lr=LEARNING_RATE, weight_decay=0.01)"
   ]
  },
  {
   "cell_type": "code",
   "execution_count": 33,
   "id": "6f33b3e8",
   "metadata": {},
   "outputs": [],
   "source": [
    "def training(model, epochs, validate_every=2):\n",
    "\n",
    "    training_losses = []\n",
    "    validation_losses = []\n",
    "    min_validation_loss = np.Inf\n",
    "\n",
    "    # Set to train mode\n",
    "    model.train()\n",
    "\n",
    "    for epoch in tqdm(range(epochs)):\n",
    "\n",
    "        # Initialize hidden and cell states with dimension:\n",
    "        # (num_layers * num_directions, batch, hidden_size)\n",
    "        running_training_loss = 0.0\n",
    "\n",
    "        # Begin training\n",
    "        for idx, (x_batch, y_batch) in enumerate(btc_train_dl):\n",
    "            # Convert to Tensors\n",
    "            x_batch = x_batch.float().to(device)\n",
    "            y_batch = y_batch.float().to(device)\n",
    "      \n",
    "            optimizer.zero_grad()\n",
    "\n",
    "            # Make prediction\n",
    "            output = model(x_batch)\n",
    "\n",
    "            # Calculate loss\n",
    "            loss = criterion(output[:, -1, :], y_batch)\n",
    "            loss.backward()\n",
    "            running_training_loss += loss.item()\n",
    "\n",
    "            torch.nn.utils.clip_grad_norm_(model.parameters(), 0.5)\n",
    "            optimizer.step()\n",
    "        \n",
    "        # Average loss across timesteps\n",
    "        training_losses.append(running_training_loss / len(btc_train_dl))\n",
    "        \n",
    "        if epoch % validate_every == 0:\n",
    "            # Set to eval mode\n",
    "            model.eval()\n",
    "            torch.no_grad()\n",
    "            running_validation_loss = 0.0\n",
    "\n",
    "            for idx, (x_batch, y_batch) in enumerate(btc_test_dl):\n",
    "\n",
    "                # Convert to Tensors\n",
    "                x_batch = x_batch.float().to(device)\n",
    "                y_batch = y_batch.float().to(device)\n",
    "      \n",
    "                output = model(x_batch)\n",
    "                validation_loss = criterion(output[:, -1, :], y_batch)\n",
    "                running_validation_loss += validation_loss.item()\n",
    "        \n",
    "        validation_losses.append(running_validation_loss / len(btc_test_dl))\n",
    "        # Reset to training mode\n",
    "        model.train()\n",
    "        \n",
    "    # Visualize loss\n",
    "    epoch_count = range(1, len(training_losses) + 1)\n",
    "    plt.plot(epoch_count, training_losses, 'r--')\n",
    "    plt.legend(['Training Loss'])\n",
    "    plt.xlabel('Epoch')\n",
    "    plt.ylabel('Loss')\n",
    "    plt.show()\n",
    "\n",
    "    val_epoch_count = range(1, len(validation_losses) + 1)\n",
    "    plt.plot(val_epoch_count, validation_losses, 'b--')\n",
    "    plt.legend(['Validation loss'])\n",
    "    plt.xlabel('Epoch')\n",
    "    plt.ylabel('Loss')\n",
    "    plt.show()"
   ]
  },
  {
   "cell_type": "code",
   "execution_count": 34,
   "id": "b5011baa",
   "metadata": {},
   "outputs": [
    {
     "name": "stderr",
     "output_type": "stream",
     "text": [
      "100%|██████████| 50/50 [1:02:17<00:00, 74.74s/it]\n"
     ]
    }
   ],
   "source": [
    "training(model, 10)"
   ]
  },
  {
   "cell_type": "markdown",
   "id": "afe6dabd",
   "metadata": {},
   "source": [
    "epoch = 50\n",
    "save_model = True\n",
    "if save_model:\n",
    "    state = {\n",
    "        'net': model.state_dict(),\n",
    "        'epoch': epoch,\n",
    "    }\n",
    "    os.makedirs('LSTM', exist_ok=True)\n",
    "    torch.save(state, './LSTM/btc_lstm_e50.ckpt')"
   ]
  },
  {
   "cell_type": "code",
   "execution_count": 59,
   "id": "554e3824",
   "metadata": {},
   "outputs": [
    {
     "name": "stderr",
     "output_type": "stream",
     "text": [
      "41740it [01:16, 543.36it/s]\n"
     ]
    }
   ],
   "source": [
    "pred = []\n",
    "for idx, (x_batch, y_batch) in tqdm(enumerate(btc_test_dl)):\n",
    "    # Convert to Tensors\n",
    "    x_batch = x_batch.float().to(device)\n",
    "    y_batch = y_batch.float().to(device)\n",
    "      \n",
    "    output = model(x_batch)[:, -1, :].item()\n",
    "    pred.append(output)"
   ]
  },
  {
   "cell_type": "code",
   "execution_count": 73,
   "id": "52cfbf4f",
   "metadata": {},
   "outputs": [],
   "source": [
    "pred_btc = np.array(pred)"
   ]
  },
  {
   "cell_type": "code",
   "execution_count": 76,
   "id": "c120d633",
   "metadata": {},
   "outputs": [
    {
     "data": {
      "text/plain": [
       "41740"
      ]
     },
     "execution_count": 76,
     "metadata": {},
     "output_type": "execute_result"
    }
   ],
   "source": [
    "len(pred_btc)"
   ]
  },
  {
   "cell_type": "code",
   "execution_count": 75,
   "id": "59f40ed8",
   "metadata": {},
   "outputs": [],
   "source": [
    "test_btc = y_btc_test[20:]"
   ]
  },
  {
   "cell_type": "code",
   "execution_count": 77,
   "id": "3f69be35",
   "metadata": {},
   "outputs": [
    {
     "data": {
      "text/plain": [
       "41740"
      ]
     },
     "execution_count": 77,
     "metadata": {},
     "output_type": "execute_result"
    }
   ],
   "source": [
    "len(test_btc)"
   ]
  },
  {
   "cell_type": "code",
   "execution_count": 78,
   "id": "66fc7570",
   "metadata": {},
   "outputs": [
    {
     "data": {
      "text/plain": [
       "0.003526890610312263"
      ]
     },
     "execution_count": 78,
     "metadata": {},
     "output_type": "execute_result"
    }
   ],
   "source": [
    "np.corrcoef(pred_btc, test_btc)[0,1]"
   ]
  },
  {
   "cell_type": "code",
   "execution_count": 84,
   "id": "af55d9bf",
   "metadata": {},
   "outputs": [
    {
     "data": {
      "text/plain": [
       "[<matplotlib.lines.Line2D at 0x7faeabbe8100>]"
      ]
     },
     "execution_count": 84,
     "metadata": {},
     "output_type": "execute_result"
    },
    {
     "data": {
      "image/png": "[encoded data removed]",
      "text/plain": [
       "<Figure size 432x288 with 1 Axes>"
      ]
     },
     "metadata": {
      "needs_background": "light"
     },
     "output_type": "display_data"
    }
   ],
   "source": [
    "plt.plot(pred_btc[100:200])\n",
    "plt.plot(test_btc[100:200])"
   ]
  },
  {
   "cell_type": "markdown",
   "id": "900aaf35",
   "metadata": {},
   "source": [
    "# GRU"
   ]
  },
  {
   "cell_type": "code",
   "execution_count": 101,
   "id": "bda6df6a",
   "metadata": {},
   "outputs": [],
   "source": [
    "use_cuda = torch.cuda.is_available()\n",
    "device = torch.device(\"cuda:0\" if use_cuda else \"cpu\")"
   ]
  },
  {
   "cell_type": "code",
   "execution_count": 102,
   "id": "73ed7f65",
   "metadata": {},
   "outputs": [],
   "source": [
    "EPOCHS        = 100\n",
    "DROPOUT       = 0.2\n",
    "NUM_LAYERS    = 2\n",
    "INPUT_DIM     = 4\n",
    "OUTPUT_SIZE   = 1\n",
    "HIDDEN_SIZE   = 100\n",
    "LEARNING_RATE = 0.0001\n",
    "STATE_DIM     = NUM_LAYERS, BATCH_SIZE, HIDDEN_SIZE"
   ]
  },
  {
   "cell_type": "code",
   "execution_count": 103,
   "id": "b45c2c5e",
   "metadata": {},
   "outputs": [],
   "source": [
    "class GRU(nn.Module):\n",
    "    def __init__(self, input_size, hidden_size, num_layers, output_size, dropout_prob):\n",
    "        super(GRU, self).__init__()\n",
    "        \n",
    "        self.num_layers = num_layers\n",
    "        self.hidden_size = hidden_size\n",
    "        \n",
    "        self.rnn = nn.GRU(input_size, hidden_size, num_layers, batch_first=True, dropout=dropout_prob)\n",
    "        self.linear = nn.Linear(hidden_size, output_size)\n",
    "        \n",
    "\n",
    "    def forward(self, x):\n",
    "        \n",
    "        # Initialize hidden state with zeros\n",
    "        h0 = Variable(torch.zeros(self.num_layers, x.size(0), self.hidden_size))\n",
    "        \n",
    "        x, (h) = self.rnn(x, h0)\n",
    "        out = self.linear(x)\n",
    "        return out"
   ]
  },
  {
   "cell_type": "code",
   "execution_count": 104,
   "id": "563fae39",
   "metadata": {},
   "outputs": [],
   "source": [
    "model = GRU(\n",
    "    INPUT_DIM,\n",
    "    HIDDEN_SIZE,\n",
    "    NUM_LAYERS,\n",
    "    OUTPUT_SIZE,\n",
    "    DROPOUT\n",
    ").to(device)\n",
    "\n",
    "criterion = nn.MSELoss()\n",
    "optimizer = optim.AdamW(model.linear.parameters(), lr=LEARNING_RATE, weight_decay=0.01)"
   ]
  },
  {
   "cell_type": "code",
   "execution_count": 105,
   "id": "61ad36ed",
   "metadata": {},
   "outputs": [],
   "source": [
    "def training(model, epochs, validate_every=2):\n",
    "\n",
    "    training_losses = []\n",
    "    validation_losses = []\n",
    "    min_validation_loss = np.Inf\n",
    "\n",
    "    # Set to train mode\n",
    "    model.train()\n",
    "\n",
    "    for epoch in tqdm(range(epochs)):\n",
    "\n",
    "        # Initialize hidden and cell states with dimension:\n",
    "        # (num_layers * num_directions, batch, hidden_size)\n",
    "        running_training_loss = 0.0\n",
    "\n",
    "        # Begin training\n",
    "        for idx, (x_batch, y_batch) in enumerate(btc_train_dl):\n",
    "            # Convert to Tensors\n",
    "            x_batch = x_batch.float().to(device)\n",
    "            y_batch = y_batch.float().to(device)\n",
    "      \n",
    "            optimizer.zero_grad()\n",
    "\n",
    "            # Make prediction\n",
    "            output = model(x_batch)\n",
    "\n",
    "            # Calculate loss\n",
    "            loss = criterion(output[:, -1, :], y_batch)\n",
    "            loss.backward()\n",
    "            running_training_loss += loss.item()\n",
    "\n",
    "            torch.nn.utils.clip_grad_norm_(model.parameters(), 0.5)\n",
    "            optimizer.step()\n",
    "        \n",
    "        # Average loss across timesteps\n",
    "        training_losses.append(running_training_loss / len(btc_train_dl))\n",
    "        \n",
    "        if epoch % validate_every == 0:\n",
    "            # Set to eval mode\n",
    "            model.eval()\n",
    "            torch.no_grad()\n",
    "            running_validation_loss = 0.0\n",
    "\n",
    "            for idx, (x_batch, y_batch) in enumerate(btc_test_dl):\n",
    "\n",
    "                # Convert to Tensors\n",
    "                x_batch = x_batch.float().to(device)\n",
    "                y_batch = y_batch.float().to(device)\n",
    "      \n",
    "                output = model(x_batch)\n",
    "                validation_loss = criterion(output[:, -1, :], y_batch)\n",
    "                running_validation_loss += validation_loss.item()\n",
    "        \n",
    "        validation_losses.append(running_validation_loss / len(btc_test_dl))\n",
    "        # Reset to training mode\n",
    "        model.train()\n",
    "        \n",
    "    # Visualize loss\n",
    "    epoch_count = range(1, len(training_losses) + 1)\n",
    "    plt.plot(epoch_count, training_losses, 'r--')\n",
    "    plt.legend(['Training Loss'])\n",
    "    plt.xlabel('Epoch')\n",
    "    plt.ylabel('Loss')\n",
    "    plt.show()\n",
    "\n",
    "    val_epoch_count = range(1, len(validation_losses) + 1)\n",
    "    plt.plot(val_epoch_count, validation_losses, 'b--')\n",
    "    plt.legend(['Validation loss'])\n",
    "    plt.xlabel('Epoch')\n",
    "    plt.ylabel('Loss')\n",
    "    plt.show()"
   ]
  },
  {
   "cell_type": "code",
   "execution_count": 106,
   "id": "2063f943",
   "metadata": {},
   "outputs": [
    {
     "name": "stderr",
     "output_type": "stream",
     "text": [
      "100%|██████████| 50/50 [55:54<00:00, 67.08s/it] \n"
     ]
    },
    {
     "data": {
      "image/png": "[encoded data removed]",
      "text/plain": [
       "<Figure size 432x288 with 1 Axes>"
      ]
     },
     "metadata": {
      "needs_background": "light"
     },
     "output_type": "display_data"
    },
    {
     "data": {
      "image/png": "[encoded data removed]",
      "text/plain": [
       "<Figure size 432x288 with 1 Axes>"
      ]
     },
     "metadata": {
      "needs_background": "light"
     },
     "output_type": "display_data"
    }
   ],
   "source": [
    "training(model, 50)"
   ]
  },
  {
   "cell_type": "code",
   "execution_count": 107,
   "id": "1555b1d4",
   "metadata": {},
   "outputs": [],
   "source": [
    "epoch = 50\n",
    "save_model = True\n",
    "if save_model:\n",
    "    state = {\n",
    "        'net': model.state_dict(),\n",
    "        'epoch': epoch,\n",
    "    }\n",
    "    os.makedirs('GRU', exist_ok=True)\n",
    "    torch.save(state, './GRU/btc_gru_e50.ckpt')"
   ]
  },
  {
   "cell_type": "code",
   "execution_count": 110,
   "id": "66ba8588",
   "metadata": {},
   "outputs": [
    {
     "name": "stderr",
     "output_type": "stream",
     "text": [
      "41740it [01:26, 485.01it/s]\n"
     ]
    }
   ],
   "source": [
    "pred = []\n",
    "for idx, (x_batch, y_batch) in tqdm(enumerate(btc_test_dl)):\n",
    "    # Convert to Tensors\n",
    "    x_batch = x_batch.float().to(device)\n",
    "    y_batch = y_batch.float().to(device)\n",
    "      \n",
    "    output = model(x_batch)[:, -1, :].item()\n",
    "    pred.append(output)"
   ]
  },
  {
   "cell_type": "code",
   "execution_count": 111,
   "id": "7bc0e694",
   "metadata": {},
   "outputs": [],
   "source": [
    "pred_btc = np.array(pred)\n",
    "test_btc = y_btc_test[20:]"
   ]
  },
  {
   "cell_type": "code",
   "execution_count": 112,
   "id": "34f8f0e4",
   "metadata": {},
   "outputs": [
    {
     "data": {
      "text/plain": [
       "-0.006154054581286141"
      ]
     },
     "execution_count": 112,
     "metadata": {},
     "output_type": "execute_result"
    }
   ],
   "source": [
    "np.corrcoef(pred_btc, test_btc)[0,1]"
   ]
  },
  {
   "cell_type": "code",
   "execution_count": 113,
   "id": "6d855ee2",
   "metadata": {},
   "outputs": [
    {
     "data": {
      "text/plain": [
       "[<matplotlib.lines.Line2D at 0x7fa8d5eb5c40>]"
      ]
     },
     "execution_count": 113,
     "metadata": {},
     "output_type": "execute_result"
    },
    {
     "data": {
      "image/png": "[encoded data removed]",
      "text/plain": [
       "<Figure size 432x288 with 1 Axes>"
      ]
     },
     "metadata": {
      "needs_background": "light"
     },
     "output_type": "display_data"
    }
   ],
   "source": [
    "plt.plot(pred_btc[100:200])\n",
    "plt.plot(test_btc[100:200])"
   ]
  },
  {
   "cell_type": "code",
   "execution_count": null,
   "id": "bdb66794",
   "metadata": {},
   "outputs": [],
   "source": []
  }
 ],
 "metadata": {
  "kernelspec": {
   "display_name": "Python 3",
   "language": "python",
   "name": "python3"
  },
  "language_info": {
   "codemirror_mode": {
    "name": "ipython",
    "version": 3
   },
   "file_extension": ".py",
   "mimetype": "text/x-python",
   "name": "python",
   "nbconvert_exporter": "python",
   "pygments_lexer": "ipython3",
   "version": "3.8.8"
  }
 },
 "nbformat": 4,
 "nbformat_minor": 5
}
